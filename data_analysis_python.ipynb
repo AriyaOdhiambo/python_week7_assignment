
# Import necessary libraries
import pandas as pd
import numpy as np
import matplotlib.pyplot as plt
import seaborn as sns
from sklearn.datasets import load_iris
import warnings
warnings.filterwarnings('ignore')

# Set style for better-looking plots
plt.style.use('seaborn-v0_8')
sns.set_palette("husl")

print("Libraries imported successfully!")
print("=" * 50)

# =============================================================================
# TASK 1: LOAD AND EXPLORE THE DATASET
# =============================================================================

print("TASK 1: DATASET LOADING AND EXPLORATION")
print("=" * 50)

try:
    # Load the Iris dataset
    iris_data = load_iris()
    
    # Create a DataFrame
    df = pd.DataFrame(iris_data.data, columns=iris_data.feature_names)
    df['species'] = pd.Categorical.from_codes(iris_data.target, iris_data.target_names)
    
    print("✓ Dataset loaded successfully!")
    print(f"Dataset shape: {df.shape}")
    print()
    
    # Display first few rows
    print("First 10 rows of the dataset:")
    print(df.head(10))
    print()
    
    # Explore the structure of the dataset
    print("Dataset Information:")
    print(f"Number of rows: {len(df)}")
    print(f"Number of columns: {len(df.columns)}")
    print()
    
    print("Data types:")
    print(df.dtypes)
    print()
    
    print("Column names:")
    print(list(df.columns))
    print()
    
    # Check for missing values
    print("Missing values check:")
    missing_values = df.isnull().sum()
    print(missing_values)
    
    if missing_values.sum() == 0:
        print("✓ No missing values found in the dataset!")
    else:
        print("⚠ Missing values detected. Cleaning required.")
        # Handle missing values (if any)
        df = df.dropna()  # or df.fillna(method='mean') for numerical columns
        print("✓ Missing values handled.")
    
    print()
    
except Exception as e:
    print(f"Error loading dataset: {e}")
    print("Please ensure all required libraries are installed.")

# =============================================================================
# TASK 2: BASIC DATA ANALYSIS
# =============================================================================

print("\nTASK 2: BASIC DATA ANALYSIS")
print("=" * 50)

try:
    # Compute basic statistics
    print("Basic Statistics for Numerical Columns:")
    numerical_stats = df.describe()
    print(numerical_stats)
    print()
    
    # Additional statistics
    print("Additional Statistics:")
    print(f"Dataset mean values:")
    for col in df.select_dtypes(include=[np.number]).columns:
        print(f"  {col}: {df[col].mean():.3f}")
    print()
    
    print(f"Dataset median values:")
    for col in df.select_dtypes(include=[np.number]).columns:
        print(f"  {col}: {df[col].median():.3f}")
    print()
    
    print(f"Dataset standard deviation:")
    for col in df.select_dtypes(include=[np.number]).columns:
        print(f"  {col}: {df[col].std():.3f}")
    print()
    
    # Group analysis by species
    print("Grouping Analysis by Species:")
    species_groups = df.groupby('species').agg({
        'sepal length (cm)': ['mean', 'std'],
        'sepal width (cm)': ['mean', 'std'],
        'petal length (cm)': ['mean', 'std'],
        'petal width (cm)': ['mean', 'std']
    }).round(3)
    
    print(species_groups)
    print()
    
    # Count by species
    print("Count by Species:")
    species_counts = df['species'].value_counts()
    print(species_counts)
    print()
    
    # Interesting findings
    print("KEY FINDINGS:")
    print("1. The dataset contains 150 samples with 4 numerical features")
    print("2. All three species are equally represented (50 samples each)")
    print("3. Virginica has the largest average petal length and width")
    print("4. Setosa has the smallest average petal dimensions")
    print("5. No missing values were found in the dataset")
    
except Exception as e:
    print(f"Error in data analysis: {e}")

# =============================================================================
# TASK 3: DATA VISUALIZATION
# =============================================================================

print("\nTASK 3: DATA VISUALIZATIONS")
print("=" * 50)

try:
    # Create a figure with subplots for better organization
    fig = plt.figure(figsize=(20, 16))
    
    # 1. LINE CHART - Trends across samples (simulating time-series)
    plt.subplot(2, 3, 1)
    sample_indices = range(len(df))
    plt.plot(sample_indices, df['sepal length (cm)'], label='Sepal Length', alpha=0.7)
    plt.plot(sample_indices, df['sepal width (cm)'], label='Sepal Width', alpha=0.7)
    plt.plot(sample_indices, df['petal length (cm)'], label='Petal Length', alpha=0.7)
    plt.plot(sample_indices, df['petal width (cm)'], label='Petal Width', alpha=0.7)
    plt.title('Feature Values Across All Samples\n(Simulated Time Series)', fontsize=14, fontweight='bold')
    plt.xlabel('Sample Index')
    plt.ylabel('Measurement (cm)')
    plt.legend()
    plt.grid(True, alpha=0.3)
    
    # 2. BAR CHART - Average measurements by species
    plt.subplot(2, 3, 2)
    species_means = df.groupby('species')[['sepal length (cm)', 'sepal width (cm)', 
                                         'petal length (cm)', 'petal width (cm)']].mean()
    species_means.plot(kind='bar', ax=plt.gca(), width=0.8)
    plt.title('Average Feature Measurements by Species', fontsize=14, fontweight='bold')
    plt.xlabel('Species')
    plt.ylabel('Average Measurement (cm)')
    plt.legend(bbox_to_anchor=(1.05, 1), loc='upper left')
    plt.xticks(rotation=45)
    plt.grid(True, alpha=0.3)
    
    # 3. HISTOGRAM - Distribution of sepal length
    plt.subplot(2, 3, 3)
    plt.hist(df['sepal length (cm)'], bins=20, alpha=0.7, color='skyblue', edgecolor='black')
    plt.title('Distribution of Sepal Length', fontsize=14, fontweight='bold')
    plt.xlabel('Sepal Length (cm)')
    plt.ylabel('Frequency')
    plt.grid(True, alpha=0.3)
    
    # Add vertical lines for mean and median
    mean_val = df['sepal length (cm)'].mean()
    median_val = df['sepal length (cm)'].median()
    plt.axvline(mean_val, color='red', linestyle='--', label=f'Mean: {mean_val:.2f}')
    plt.axvline(median_val, color='green', linestyle='--', label=f'Median: {median_val:.2f}')
    plt.legend()
    
    # 4. SCATTER PLOT - Sepal length vs Petal length
    plt.subplot(2, 3, 4)
    colors = {'setosa': 'red', 'versicolor': 'blue', 'virginica': 'green'}
    for species in df['species'].unique():
        species_data = df[df['species'] == species]
        plt.scatter(species_data['sepal length (cm)'], species_data['petal length (cm)'], 
                   c=colors[species], label=species, alpha=0.7, s=60)
    
    plt.title('Sepal Length vs Petal Length by Species', fontsize=14, fontweight='bold')
    plt.xlabel('Sepal Length (cm)')
    plt.ylabel('Petal Length (cm)')
    plt.legend()
    plt.grid(True, alpha=0.3)
    
    # Add correlation coefficient
    correlation = df['sepal length (cm)'].corr(df['petal length (cm)'])
    plt.text(0.05, 0.95, f'Correlation: {correlation:.3f}', 
             transform=plt.gca().transAxes, bbox=dict(boxstyle='round', facecolor='wheat'))
    
    # 5. BOX PLOT - Distribution comparison by species
    plt.subplot(2, 3, 5)
    df.boxplot(column='petal width (cm)', by='species', ax=plt.gca())
    plt.title('Petal Width Distribution by Species', fontsize=14, fontweight='bold')
    plt.suptitle('')  # Remove the automatic title
    plt.xlabel('Species')
    plt.ylabel('Petal Width (cm)')
    plt.xticks(rotation=45)
    
    # 6. CORRELATION HEATMAP
    plt.subplot(2, 3, 6)
    correlation_matrix = df.select_dtypes(include=[np.number]).corr()
    sns.heatmap(correlation_matrix, annot=True, cmap='coolwarm', center=0, 
                square=True, ax=plt.gca())
    plt.title('Feature Correlation Heatmap', fontsize=14, fontweight='bold')
    
    # Adjust layout and show
    plt.tight_layout()
    plt.show()
    
    print("✓ All visualizations created successfully!")
    
except Exception as e:
    print(f"Error creating visualizations: {e}")

# =============================================================================
# ADDITIONAL ANALYSIS AND INSIGHTS
# =============================================================================

print("\nADDITIONAL INSIGHTS AND FINDINGS")
print("=" * 50)

try:
    # Correlation analysis
    print("CORRELATION ANALYSIS:")
    corr_matrix = df.select_dtypes(include=[np.number]).corr()
    print("Strongest correlations:")
    
    # Find pairs with high correlation
    correlations = []
    for i in range(len(corr_matrix.columns)):
        for j in range(i+1, len(corr_matrix.columns)):
            corr_val = corr_matrix.iloc[i, j]
            correlations.append((corr_matrix.columns[i], corr_matrix.columns[j], corr_val))
    
    # Sort by absolute correlation value
    correlations.sort(key=lambda x: abs(x[2]), reverse=True)
    
    for col1, col2, corr_val in correlations[:3]:
        print(f"  {col1} & {col2}: {corr_val:.3f}")
    
    print()
    
    # Species-specific insights
    print("SPECIES-SPECIFIC INSIGHTS:")
    for species in df['species'].unique():
        species_data = df[df['species'] == species]
        print(f"\n{species.upper()}:")
        print(f"  - Sample count: {len(species_data)}")
        print(f"  - Avg petal length: {species_data['petal length (cm)'].mean():.2f} cm")
        print(f"  - Avg petal width: {species_data['petal width (cm)'].mean():.2f} cm")
        print(f"  - Sepal length range: {species_data['sepal length (cm)'].min():.1f} - {species_data['sepal length (cm)'].max():.1f} cm")
    
    print("\nKEY OBSERVATIONS:")
    print("1. Strong positive correlation between petal length and petal width (0.963)")
    print("2. Petal measurements are better discriminators between species than sepal measurements")
    print("3. Setosa is clearly separable from the other two species")
    print("4. Virginica and Versicolor show some overlap in measurements")
    print("5. The dataset is well-balanced with equal representation of all species")
    
    # Summary statistics table
    print("\nSUMMARY STATISTICS TABLE:")
    summary_table = df.groupby('species').agg({
        'sepal length (cm)': ['count', 'mean', 'std', 'min', 'max'],
        'petal length (cm)': ['mean', 'std', 'min', 'max']
    }).round(2)
    print(summary_table)
    
except Exception as e:
    print(f"Error in additional analysis: {e}")

print("\n" + "=" * 50)
print("ANALYSIS COMPLETE!")
print("This notebook successfully demonstrated:")
print("✓ Data loading and exploration")
print("✓ Basic statistical analysis")
print("✓ Multiple visualization techniques")
print("✓ Data insights and pattern recognition")
print("✓ Error handling and data validation")
print("=" * 50)
